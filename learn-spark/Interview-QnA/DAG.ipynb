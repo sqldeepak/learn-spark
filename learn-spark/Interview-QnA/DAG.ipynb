{
    "metadata": {
        "kernelspec": {
            "name": "SQL",
            "display_name": "SQL",
            "language": "sql"
        },
        "language_info": {
            "name": "sql",
            "version": ""
        }
    },
    "nbformat_minor": 2,
    "nbformat": 4,
    "cells": [
        {
            "cell_type": "markdown",
            "source": [
                "# <span style=\"color: var(--vscode-foreground);\">Distributed Acyclic Graph (DAG)</span>"
            ],
            "metadata": {
                "azdata_cell_guid": "b3919fce-1018-4cb0-8753-e14acd6974e5"
            },
            "attachments": {}
        }
    ]
}